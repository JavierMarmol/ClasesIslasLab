{
 "cells": [
  {
   "cell_type": "code",
   "execution_count": 1,
   "metadata": {
    "collapsed": true
   },
   "outputs": [],
   "source": [
    "from pylab import *\n",
    "%matplotlib inline"
   ]
  },
  {
   "cell_type": "markdown",
   "metadata": {},
   "source": [
    "Resolveremos\n",
    "\n",
    "$$\n",
    "y'' = -y\n",
    "$$\n",
    "\n",
    "$$\n",
    "y = [sin(x),cos(x)]\n",
    "$$\n",
    "\n",
    "$$\n",
    "y´[0] = y[1]\n",
    "$$\n",
    "\n",
    "$$\n",
    "y'[1] = -y[0]\n",
    "$$"
   ]
  },
  {
   "cell_type": "code",
   "execution_count": 2,
   "metadata": {
    "collapsed": true
   },
   "outputs": [],
   "source": [
    "def segundo_orden(y,t):\n",
    "    return array([y[1],-y[0]])"
   ]
  },
  {
   "cell_type": "code",
   "execution_count": 8,
   "metadata": {
    "collapsed": true
   },
   "outputs": [],
   "source": [
    "def euler(func,p_ini,t_final,h):\n",
    "    pasos = arange(p_ini[0],t_final+h,h)\n",
    "    y = [0]*len(pasos)\n",
    "    y[0] = p_ini[1]\n",
    "    for i in range(len(pasos)-1):\n",
    "        y[i+1] = y[i] + func(y[i],pasos[i])*h\n",
    "    sol = pasos, y\n",
    "    return sol"
   ]
  },
  {
   "cell_type": "code",
   "execution_count": 19,
   "metadata": {
    "collapsed": false
   },
   "outputs": [
    {
     "data": {
      "text/plain": [
       "[<matplotlib.lines.Line2D at 0x84a2208>]"
      ]
     },
     "execution_count": 19,
     "metadata": {},
     "output_type": "execute_result"
    },
    {
     "data": {
      "image/png": "[encoded data removed]",
      "text/plain": [
       "<matplotlib.figure.Figure at 0x77a10b8>"
      ]
     },
     "metadata": {},
     "output_type": "display_data"
    }
   ],
   "source": [
    "sol = euler(segundo_orden,[0,[0,1]],2000,0.01)\n",
    "y = zeros(len(sol[0]))\n",
    "\n",
    "for i in range(len(sol[1])):\n",
    "    y[i] = sol[1][i][1]\n",
    "    \n",
    "plot(sol[0],y)\n",
    "plot(sol[0],cos(sol[0]))"
   ]
  },
  {
   "cell_type": "code",
   "execution_count": null,
   "metadata": {
    "collapsed": true
   },
   "outputs": [],
   "source": [
    "git add *\n",
    "git commit -m \"ñasdlñijf\"\n",
    "git push origin master"
   ]
  },
  {
   "cell_type": "code",
   "execution_count": 18,
   "metadata": {
    "collapsed": false
   },
   "outputs": [
    {
     "name": "stdout",
     "output_type": "stream",
     "text": [
      "4\n"
     ]
    }
   ],
   "source": [
    "y = (3+5)/2\n",
    "print y"
   ]
  },
  {
   "cell_type": "code",
   "execution_count": null,
   "metadata": {
    "collapsed": true
   },
   "outputs": [],
   "source": []
  }
 ],
 "metadata": {
  "anaconda-cloud": {},
  "kernelspec": {
   "display_name": "Python [Root]",
   "language": "python",
   "name": "Python [Root]"
  },
  "language_info": {
   "codemirror_mode": {
    "name": "ipython",
    "version": 2
   },
   "file_extension": ".py",
   "mimetype": "text/x-python",
   "name": "python",
   "nbconvert_exporter": "python",
   "pygments_lexer": "ipython2",
   "version": "2.7.12"
  }
 },
 "nbformat": 4,
 "nbformat_minor": 0
}
